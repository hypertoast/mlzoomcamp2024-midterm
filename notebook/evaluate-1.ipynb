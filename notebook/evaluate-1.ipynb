{
 "cells": [
  {
   "cell_type": "code",
   "execution_count": 1,
   "metadata": {},
   "outputs": [],
   "source": [
    "import pandas as pd\n",
    "import numpy as np\n",
    "import pickle\n",
    "import matplotlib.pyplot as plt\n",
    "from sklearn.metrics import (\n",
    "    accuracy_score, \n",
    "    confusion_matrix,\n",
    "    precision_score,\n",
    "    recall_score,\n",
    "    roc_curve,\n",
    "    auc\n",
    ")\n",
    "from sklearn.model_selection import cross_val_score"
   ]
  },
  {
   "cell_type": "code",
   "execution_count": 2,
   "metadata": {},
   "outputs": [],
   "source": [
    "# Load the model and data\n",
    "with open('../models/model.pkl', 'rb') as f:\n",
    "    model_data = pickle.load(f)"
   ]
  },
  {
   "cell_type": "code",
   "execution_count": 3,
   "metadata": {},
   "outputs": [],
   "source": [
    "# Load and prepare test data\n",
    "df = pd.read_csv('../data/diabetes_dataset_processed.csv')"
   ]
  },
  {
   "cell_type": "code",
   "execution_count": 4,
   "metadata": {},
   "outputs": [],
   "source": [
    "def prepare_features(df):\n",
    "    \"\"\"Prepare features using saved preprocessors\"\"\"\n",
    "    numerical_cols = ['age', 'bmi', 'HbA1c_level', 'blood_glucose_level', 'cardiovascular_risk']\n",
    "    categorical_cols = ['gender', 'smoking_history', 'bmi_category', 'HbA1c_category', 'glucose_category']\n",
    "    \n",
    "    # Scale numerical features\n",
    "    X_num = df[numerical_cols].copy()\n",
    "    X_num_scaled = model_data['scaler'].transform(X_num)\n",
    "    X_num_scaled = pd.DataFrame(X_num_scaled, columns=numerical_cols)\n",
    "    \n",
    "    # Encode categorical features\n",
    "    X_cat = df[categorical_cols].copy()\n",
    "    X_cat_encoded = pd.DataFrame()\n",
    "    for col in categorical_cols:\n",
    "        X_cat_encoded[col] = model_data['encoders'][col].transform(X_cat[col])\n",
    "    \n",
    "    # Combine features\n",
    "    X = pd.concat([X_num_scaled, X_cat_encoded], axis=1)\n",
    "    y = df['diabetes']\n",
    "    \n",
    "    return X, y"
   ]
  },
  {
   "cell_type": "code",
   "execution_count": 5,
   "metadata": {},
   "outputs": [],
   "source": [
    "X, y = prepare_features(df)"
   ]
  },
  {
   "cell_type": "code",
   "execution_count": 6,
   "metadata": {},
   "outputs": [],
   "source": [
    "# Split into train/test sets\n",
    "from sklearn.model_selection import train_test_split\n",
    "X_train, X_test, y_train, y_test = train_test_split(X, y, test_size=0.2, random_state=42)"
   ]
  },
  {
   "cell_type": "code",
   "execution_count": 7,
   "metadata": {},
   "outputs": [],
   "source": [
    "# Get predictions\n",
    "y_pred = model_data['model'].predict(X_test)\n",
    "y_pred_proba = model_data['model'].predict_proba(X_test)[:, 1]"
   ]
  },
  {
   "cell_type": "code",
   "execution_count": 8,
   "metadata": {},
   "outputs": [
    {
     "name": "stdout",
     "output_type": "stream",
     "text": [
      "1. Accuracy\n",
      "-----------\n",
      "Accuracy = 0.960\n",
      "\n"
     ]
    }
   ],
   "source": [
    "# 1. Accuracy\n",
    "print(\"1. Accuracy\")\n",
    "print(\"-----------\")\n",
    "accuracy = accuracy_score(y_test, y_pred)\n",
    "print(f'Accuracy = {accuracy:.3f}')\n",
    "print()"
   ]
  },
  {
   "cell_type": "markdown",
   "metadata": {},
   "source": [
    "Very high overall accuracy\n",
    "However, with imbalanced medical data, we need to look deeper at other metrics"
   ]
  },
  {
   "cell_type": "code",
   "execution_count": 9,
   "metadata": {},
   "outputs": [
    {
     "name": "stdout",
     "output_type": "stream",
     "text": [
      "2. Confusion Table\n",
      "-----------------\n",
      "True Negative (TN): 18194\n",
      "False Positive (FP): 98\n",
      "False Negative (FN): 695\n",
      "True Positive (TP): 1013\n",
      "\n",
      "Total observations: 20000\n",
      "\n"
     ]
    }
   ],
   "source": [
    "# 2. Confusion Table\n",
    "print(\"2. Confusion Table\")\n",
    "print(\"-----------------\")\n",
    "conf_matrix = confusion_matrix(y_test, y_pred)\n",
    "tn, fp, fn, tp = conf_matrix.ravel()\n",
    "\n",
    "print(f'True Negative (TN): {tn}')\n",
    "print(f'False Positive (FP): {fp}')\n",
    "print(f'False Negative (FN): {fn}')\n",
    "print(f'True Positive (TP): {tp}')\n",
    "\n",
    "print(f'\\nTotal observations: {len(y_test)}')\n",
    "print()"
   ]
  },
  {
   "cell_type": "markdown",
   "metadata": {},
   "source": [
    "## Confusion Table Analysis"
   ]
  },
  {
   "cell_type": "markdown",
   "metadata": {},
   "source": [
    "- Data is imbalanced (18,889 negative vs 1,111 positive cases)\n",
    "- False Negatives (695) are concerning as these are missed diabetes cases\n",
    "- Very few False Positives (98) which is good"
   ]
  },
  {
   "cell_type": "code",
   "execution_count": 15,
   "metadata": {},
   "outputs": [
    {
     "name": "stdout",
     "output_type": "stream",
     "text": [
      "3. Precision\n",
      "-----------\n",
      "Precision = 0.912\n",
      "\n"
     ]
    }
   ],
   "source": [
    "# 3. Precision\n",
    "print(\"3. Precision\")\n",
    "print(\"-----------\")\n",
    "precision = precision_score(y_test, y_pred)\n",
    "print(f'Precision = {precision:.3f}')\n",
    "print()"
   ]
  },
  {
   "cell_type": "markdown",
   "metadata": {},
   "source": [
    "- Of those predicted as having diabetes, 91.2% actually have it\n",
    "- Very good precision, meaning low false alarm rate\n",
    "- Important for avoiding unnecessary worry/testing"
   ]
  },
  {
   "cell_type": "code",
   "execution_count": 11,
   "metadata": {},
   "outputs": [
    {
     "name": "stdout",
     "output_type": "stream",
     "text": [
      "4. Recall\n",
      "---------\n",
      "Recall = 0.593\n",
      "\n"
     ]
    }
   ],
   "source": [
    "# 4. Recall\n",
    "print(\"4. Recall\")\n",
    "print(\"---------\")\n",
    "recall = recall_score(y_test, y_pred)\n",
    "print(f'Recall = {recall:.3f}')\n",
    "print()"
   ]
  },
  {
   "cell_type": "markdown",
   "metadata": {},
   "source": [
    "- Model only catches 59.3% of actual diabetes cases\n",
    "- This is the main area for improvement\n",
    "- Missing ~40% of diabetes cases is significant in medical context"
   ]
  },
  {
   "cell_type": "code",
   "execution_count": 12,
   "metadata": {},
   "outputs": [
    {
     "name": "stdout",
     "output_type": "stream",
     "text": [
      "5. ROC Curve\n",
      "-----------\n"
     ]
    },
    {
     "data": {
      "image/png": "[encoded data removed]",
      "text/plain": [
       "<Figure size 1000x600 with 1 Axes>"
      ]
     },
     "metadata": {},
     "output_type": "display_data"
    },
    {
     "name": "stdout",
     "output_type": "stream",
     "text": [
      "AUC = 0.972\n",
      "\n"
     ]
    }
   ],
   "source": [
    "# 5. ROC Curve\n",
    "print(\"5. ROC Curve\")\n",
    "print(\"-----------\")\n",
    "fpr, tpr, thresholds = roc_curve(y_test, y_pred_proba)\n",
    "auc_score = auc(fpr, tpr)\n",
    "\n",
    "plt.figure(figsize=(10, 6))\n",
    "\n",
    "# Plot random model\n",
    "plt.plot([0, 1], [0, 1], '--', label='Random model')\n",
    "\n",
    "# Plot our model's ROC curve\n",
    "plt.plot(fpr, tpr, label=f'Model (AUC = {auc_score:.3f})')\n",
    "\n",
    "# Mark the ideal point (0,1)\n",
    "plt.plot([0], [1], 'ro', label='Ideal model')\n",
    "\n",
    "plt.xlabel('False Positive Rate (FPR)')\n",
    "plt.ylabel('True Positive Rate (TPR)')\n",
    "plt.title('ROC Curve')\n",
    "plt.legend()\n",
    "plt.grid(True)\n",
    "plt.show()\n",
    "\n",
    "print(f'AUC = {auc_score:.3f}')\n",
    "print()"
   ]
  },
  {
   "cell_type": "markdown",
   "metadata": {},
   "source": [
    "- Excellent AUC score\n",
    "- Shows great discriminative ability\n",
    "- Consistent across cross-validation (low std dev: ±0.003)"
   ]
  },
  {
   "cell_type": "code",
   "execution_count": 13,
   "metadata": {},
   "outputs": [
    {
     "name": "stdout",
     "output_type": "stream",
     "text": [
      "6. Cross-Validation\n",
      "-----------------\n"
     ]
    },
    {
     "name": "stderr",
     "output_type": "stream",
     "text": [
      "/home/calvin/mlzoomcamp/.venv/lib64/python3.12/site-packages/xgboost/core.py:158: UserWarning: [22:45:56] WARNING: /workspace/src/learner.cc:740: \n",
      "Parameters: { \"use_label_encoder\" } are not used.\n",
      "\n",
      "  warnings.warn(smsg, UserWarning)\n",
      "/home/calvin/mlzoomcamp/.venv/lib64/python3.12/site-packages/xgboost/core.py:158: UserWarning: [22:45:56] WARNING: /workspace/src/learner.cc:740: \n",
      "Parameters: { \"use_label_encoder\" } are not used.\n",
      "\n",
      "  warnings.warn(smsg, UserWarning)\n",
      "/home/calvin/mlzoomcamp/.venv/lib64/python3.12/site-packages/xgboost/core.py:158: UserWarning: [22:45:57] WARNING: /workspace/src/learner.cc:740: \n",
      "Parameters: { \"use_label_encoder\" } are not used.\n",
      "\n",
      "  warnings.warn(smsg, UserWarning)\n",
      "/home/calvin/mlzoomcamp/.venv/lib64/python3.12/site-packages/xgboost/core.py:158: UserWarning: [22:45:57] WARNING: /workspace/src/learner.cc:740: \n",
      "Parameters: { \"use_label_encoder\" } are not used.\n",
      "\n",
      "  warnings.warn(smsg, UserWarning)\n",
      "/home/calvin/mlzoomcamp/.venv/lib64/python3.12/site-packages/xgboost/core.py:158: UserWarning: [22:45:57] WARNING: /workspace/src/learner.cc:740: \n",
      "Parameters: { \"use_label_encoder\" } are not used.\n",
      "\n",
      "  warnings.warn(smsg, UserWarning)\n"
     ]
    },
    {
     "name": "stdout",
     "output_type": "stream",
     "text": [
      "Cross-Validation Scores:\n",
      "Fold 1: 0.970\n",
      "Fold 2: 0.972\n",
      "Fold 3: 0.968\n",
      "Fold 4: 0.972\n",
      "Fold 5: 0.971\n",
      "\n",
      "Mean ROC AUC: 0.971 (+/- 0.003)\n"
     ]
    }
   ],
   "source": [
    "# 6. Cross-Validation\n",
    "print(\"6. Cross-Validation\")\n",
    "print(\"-----------------\")\n",
    "cv_scores = cross_val_score(\n",
    "    model_data['model'], \n",
    "    X, \n",
    "    y, \n",
    "    cv=5,\n",
    "    scoring='roc_auc'\n",
    ")\n",
    "\n",
    "print('Cross-Validation Scores:')\n",
    "for i, score in enumerate(cv_scores, 1):\n",
    "    print(f'Fold {i}: {score:.3f}')\n",
    "print(f'\\nMean ROC AUC: {cv_scores.mean():.3f} (+/- {cv_scores.std() * 2:.3f})')"
   ]
  },
  {
   "cell_type": "code",
   "execution_count": 14,
   "metadata": {},
   "outputs": [
    {
     "name": "stdout",
     "output_type": "stream",
     "text": [
      "\n",
      "Evaluation results have been saved to '../models/evaluation_results.pkl'\n"
     ]
    }
   ],
   "source": [
    "# Save results to file\n",
    "results = {\n",
    "    'accuracy': accuracy,\n",
    "    'confusion_matrix': {\n",
    "        'tn': int(tn),\n",
    "        'fp': int(fp),\n",
    "        'fn': int(fn),\n",
    "        'tp': int(tp)\n",
    "    },\n",
    "    'precision': precision,\n",
    "    'recall': recall,\n",
    "    'auc': auc_score,\n",
    "    'cv_scores': {\n",
    "        'mean': float(cv_scores.mean()),\n",
    "        'std': float(cv_scores.std())\n",
    "    }\n",
    "}\n",
    "\n",
    "# Save evaluation results\n",
    "with open('../models/evaluation_results.pkl', 'wb') as f:\n",
    "    pickle.dump(results, f)\n",
    "\n",
    "print(\"\\nEvaluation results have been saved to '../models/evaluation_results.pkl'\")"
   ]
  },
  {
   "cell_type": "markdown",
   "metadata": {},
   "source": [
    "Seems some fine-tuning is needed. Lets go to evaluate-2.ipynb"
   ]
  }
 ],
 "metadata": {
  "kernelspec": {
   "display_name": ".venv",
   "language": "python",
   "name": "python3"
  },
  "language_info": {
   "codemirror_mode": {
    "name": "ipython",
    "version": 3
   },
   "file_extension": ".py",
   "mimetype": "text/x-python",
   "name": "python",
   "nbconvert_exporter": "python",
   "pygments_lexer": "ipython3",
   "version": "3.12.5"
  }
 },
 "nbformat": 4,
 "nbformat_minor": 2
}
